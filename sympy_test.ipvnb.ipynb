{
 "cells": [
  {
   "cell_type": "code",
   "execution_count": 1,
   "metadata": {},
   "outputs": [],
   "source": [
    "from sympy import symbols, poly, Sum, Indexed, sympify, Poly, Lambda, Derivative, Function, Subs, lambdify, DiracDelta, series\n",
    "from sympy.functions import sign, Abs\n",
    "import numpy as np\n",
    "from scipy.special import gamma, factorial\n",
    "import pandas as pd"
   ]
  },
  {
   "cell_type": "code",
   "execution_count": 2,
   "metadata": {},
   "outputs": [],
   "source": [
    "x, y, z, p, s, t = symbols(\"x y z p s t\", real = True)"
   ]
  },
  {
   "cell_type": "code",
   "execution_count": 3,
   "metadata": {},
   "outputs": [],
   "source": [
    "M = 6\n",
    "v = symbols(f\"v:{M}\", real = True)\n",
    "v_sub = symbols(f\"v_sub:{M}\", real = True)\n",
    "d, g = symbols(\"delta gamma\", real = True)\n",
    "f = Lambda(x, x ** d)\n",
    "f_dev = Lambda(x, d * x ** (d - 1))\n",
    "poly_p = Poly(v[::-1], p)\n",
    "poly_p_sub = Poly(v_sub[::-1], p)\n",
    "v_func = poly_p.expr\n",
    "v_sub_func = poly_p_sub.expr\n",
    "F_first = Lambda(p, f(v_func))\n",
    "F_second = Lambda(p, v_func * f_dev(v_sub_func))"
   ]
  },
  {
   "cell_type": "code",
   "execution_count": 5,
   "metadata": {},
   "outputs": [
    {
     "name": "stderr",
     "output_type": "stream",
     "text": [
      "<ipython-input-5-1aec47da35a1>:11: RuntimeWarning: invalid value encountered in power\n",
      "  * ((i - j + 1) ** (2 - gamma_const) - 2 * (i - j) ** (2 - gamma_const) +\\\n",
      "<ipython-input-5-1aec47da35a1>:12: RuntimeWarning: invalid value encountered in power\n",
      "  (i - j - 1) ** (2 - gamma_const))\n"
     ]
    }
   ],
   "source": [
    "h = -50.0\n",
    "N = 50\n",
    "gamma_const = 0.5\n",
    "delta_const = 0.5\n",
    "T = 1\n",
    "X = 0.1\n",
    "G = np.zeros((N, N))\n",
    "\n",
    "def G_ij_upper(i, j):\n",
    "    return (1 / (1 - gamma_const) * (1 - gamma_const)) * (T / N) ** (2 - gamma_const) \\\n",
    "            * ((i - j + 1) ** (2 - gamma_const) - 2 * (i - j) ** (2 - gamma_const) +\\\n",
    "                 (i - j - 1) ** (2 - gamma_const)) \n",
    "\n",
    "def G_ii_diagonal():\n",
    "    return (2 / ((1 - gamma_const) * (2 - gamma_const))) * (T / N) ** (2 - gamma_const)\n",
    "    \n",
    "G_upper = np.fromfunction(G_ij_upper, (N, N))\n",
    "G_upper = np.nan_to_num(G_upper, nan = 0.0)\n",
    "G_diag = np.repeat(G_ii_diagonal(), N)\n",
    "G_diag = np.diag(G_diag)\n",
    "G = G_upper.T + G_upper + G_diag\n",
    "\n",
    "v_guess = np.repeat(T * X / N, N) ## VWAP"
   ]
  },
  {
   "cell_type": "code",
   "execution_count": 6,
   "metadata": {},
   "outputs": [
    {
     "name": "stderr",
     "output_type": "stream",
     "text": [
      "<ipython-input-6-b47e588dbda4>:5: RuntimeWarning: divide by zero encountered in true_divide\n",
      "  return (c / (t * (T - t)) ** ((1 - gamma_const) / 2))\n"
     ]
    }
   ],
   "source": [
    "def gss_guess(t: np.array) -> np.array:\n",
    "    gamma_1 = gamma((1 + gamma_const)/ 2)\n",
    "    gamma_2 = gamma(1 + (gamma_const / 2))\n",
    "    c = (X / N) / (np.sqrt(np.pi) * (T / 2) ** gamma_const * (gamma_1 / gamma_2))\n",
    "    return (c / (t * (T - t)) ** ((1 - gamma_const) / 2))\n",
    "gss_v_0_guess = gss_guess(np.arange(0, 1 + 1 / (N + 1), 1 / (N + 1)))[1:-1]"
   ]
  },
  {
   "cell_type": "code",
   "execution_count": 7,
   "metadata": {},
   "outputs": [],
   "source": [
    "update_array = np.zeros((N, M))\n",
    "update_array[:, 0] = v_guess\n",
    "update_array_gss = np.zeros((N, M))\n",
    "update_array_gss[:, 0] = gss_v_0_guess"
   ]
  },
  {
   "cell_type": "code",
   "execution_count": 8,
   "metadata": {},
   "outputs": [],
   "source": [
    "def ham_series_solve(initial_array: np.array) -> np.array:\n",
    "    update_dict = {p:0, d: delta_const}\n",
    "\n",
    "    local_func = F_first(p)\n",
    "    local_sub_func = F_second(p)\n",
    "    for n in range(M - 1):\n",
    "        for i in range(N):\n",
    "            local_sum = 0\n",
    "            for j in range(N):\n",
    "                local_g = G[i, j]\n",
    "                local_dict = update_dict.copy()\n",
    "                for idx in range(M):\n",
    "                    local_dict[v[idx]] = initial_array[j, idx]\n",
    "                    local_dict[v_sub[idx]] = initial_array[i, idx]\n",
    "                if j <= i:\n",
    "                    local_f = local_func.subs(local_dict)\n",
    "                else:\n",
    "                    local_f = local_sub_func.subs(local_dict)\n",
    "                local_sum += local_g * local_f\n",
    "            initial_array[i, n + 1] = initial_array[i, n] + h * local_sum\n",
    "        local_func = local_func.diff(p) / (n + 1)\n",
    "        local_sub_func = local_sub_func.diff(p) / (n + 1)\n",
    "    return initial_array"
   ]
  },
  {
   "cell_type": "code",
   "execution_count": 9,
   "metadata": {},
   "outputs": [],
   "source": [
    "vwap_ham_solution = ham_series_solve(update_array)"
   ]
  },
  {
   "cell_type": "code",
   "execution_count": 10,
   "metadata": {},
   "outputs": [],
   "source": [
    "gss_ham_solution = ham_series_solve(update_array_gss)"
   ]
  },
  {
   "cell_type": "code",
   "execution_count": 316,
   "metadata": {},
   "outputs": [],
   "source": [
    "def impact_f(v):\n",
    "    return np.sign(v) * np.abs(v) ** delta_const"
   ]
  },
  {
   "cell_type": "code",
   "execution_count": 317,
   "metadata": {},
   "outputs": [],
   "source": [
    "def expect_cost_compute(v):\n",
    "    return v @ A @ impact_f(v).T"
   ]
  }
 ],
 "metadata": {
  "interpreter": {
   "hash": "3b07a4c983e57ffd979b6a111ad73892f909c14a0d47f7604a41c52f9ad946a6"
  },
  "kernelspec": {
   "display_name": "Python 3.8.8 64-bit",
   "language": "python",
   "name": "python3"
  },
  "language_info": {
   "codemirror_mode": {
    "name": "ipython",
    "version": 3
   },
   "file_extension": ".py",
   "mimetype": "text/x-python",
   "name": "python",
   "nbconvert_exporter": "python",
   "pygments_lexer": "ipython3",
   "version": "3.8.8"
  },
  "orig_nbformat": 4
 },
 "nbformat": 4,
 "nbformat_minor": 2
}
