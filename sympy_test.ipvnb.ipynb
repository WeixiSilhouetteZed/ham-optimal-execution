{
 "cells": [
  {
   "cell_type": "code",
   "execution_count": 1,
   "metadata": {},
   "outputs": [],
   "source": [
    "from sympy import symbols, poly, Sum, Indexed, sympify, Poly, Lambda, Derivative, Function, Subs, lambdify, DiracDelta, series\n",
    "from sympy.functions import sign, Abs\n",
    "import numpy as np\n",
    "from scipy.special import gamma, factorial\n",
    "import pandas as pd"
   ]
  },
  {
   "cell_type": "code",
   "execution_count": 2,
   "metadata": {},
   "outputs": [],
   "source": [
    "x, y, z, p, s, t = symbols(\"x y z p s t\", real = True)"
   ]
  },
  {
   "cell_type": "code",
   "execution_count": 3,
   "metadata": {},
   "outputs": [],
   "source": [
    "M = 6\n",
    "v = symbols(f\"v:{M}\", real = True)\n",
    "v_sub = symbols(f\"v_sub:{M}\", real = True)\n",
    "d, g = symbols(\"delta gamma\", real = True)\n",
    "f = Lambda(x, x ** d)\n",
    "f_dev = Lambda(x, d * x ** (d - 1))\n",
    "poly_p = Poly(v[::-1], p)\n",
    "poly_p_sub = Poly(v_sub[::-1], p)\n",
    "v_func = poly_p.expr\n",
    "v_sub_func = poly_p_sub.expr\n",
    "F_first = Lambda(p, f(v_func))\n",
    "F_second = Lambda(p, v_func * f_dev(v_sub_func))"
   ]
  },
  {
   "cell_type": "code",
   "execution_count": 5,
   "metadata": {},
   "outputs": [
    {
     "name": "stderr",
     "output_type": "stream",
     "text": [
      "<ipython-input-5-1aec47da35a1>:11: RuntimeWarning: invalid value encountered in power\n",
      "  * ((i - j + 1) ** (2 - gamma_const) - 2 * (i - j) ** (2 - gamma_const) +\\\n",
      "<ipython-input-5-1aec47da35a1>:12: RuntimeWarning: invalid value encountered in power\n",
      "  (i - j - 1) ** (2 - gamma_const))\n"
     ]
    }
   ],
   "source": [
    "h = -50.0\n",
    "N = 50\n",
    "gamma_const = 0.5\n",
    "delta_const = 0.5\n",
    "T = 1\n",
    "X = 0.1\n",
    "G = np.zeros((N, N))\n",
    "\n",
    "def G_ij_upper(i, j):\n",
    "    return (1 / (1 - gamma_const) * (1 - gamma_const)) * (T / N) ** (2 - gamma_const) \\\n",
    "            * ((i - j + 1) ** (2 - gamma_const) - 2 * (i - j) ** (2 - gamma_const) +\\\n",
    "                 (i - j - 1) ** (2 - gamma_const)) \n",
    "\n",
    "def G_ii_diagonal():\n",
    "    return (2 / ((1 - gamma_const) * (2 - gamma_const))) * (T / N) ** (2 - gamma_const)\n",
    "    \n",
    "G_upper = np.fromfunction(G_ij_upper, (N, N))\n",
    "G_upper = np.nan_to_num(G_upper, nan = 0.0)\n",
    "G_diag = np.repeat(G_ii_diagonal(), N)\n",
    "G_diag = np.diag(G_diag)\n",
    "G = G_upper.T + G_upper + G_diag\n",
    "\n",
    "v_guess = np.repeat(T * X / N, N) ## VWAP"
   ]
  },
  {
   "cell_type": "code",
   "execution_count": 6,
   "metadata": {},
   "outputs": [
    {
     "name": "stderr",
     "output_type": "stream",
     "text": [
      "<ipython-input-6-b47e588dbda4>:5: RuntimeWarning: divide by zero encountered in true_divide\n",
      "  return (c / (t * (T - t)) ** ((1 - gamma_const) / 2))\n"
     ]
    }
   ],
   "source": [
    "def gss_guess(t: np.array) -> np.array:\n",
    "    gamma_1 = gamma((1 + gamma_const)/ 2)\n",
    "    gamma_2 = gamma(1 + (gamma_const / 2))\n",
    "    c = (X / N) / (np.sqrt(np.pi) * (T / 2) ** gamma_const * (gamma_1 / gamma_2))\n",
    "    return (c / (t * (T - t)) ** ((1 - gamma_const) / 2))\n",
    "gss_v_0_guess = gss_guess(np.arange(0, 1 + 1 / (N + 1), 1 / (N + 1)))[1:-1]"
   ]
  },
  {
   "cell_type": "code",
   "execution_count": 7,
   "metadata": {},
   "outputs": [],
   "source": [
    "update_array = np.zeros((N, M))\n",
    "update_array[:, 0] = v_guess\n",
    "update_array_gss = np.zeros((N, M))\n",
    "update_array_gss[:, 0] = gss_v_0_guess"
   ]
  },
  {
   "cell_type": "code",
   "execution_count": 8,
   "metadata": {},
   "outputs": [],
   "source": [
    "def ham_series_solve(initial_array: np.array) -> np.array:\n",
    "    update_dict = {p:0, d: delta_const}\n",
    "\n",
    "    local_func = F_first(p)\n",
    "    local_sub_func = F_second(p)\n",
    "    for n in range(M - 1):\n",
    "        for i in range(N):\n",
    "            local_sum = 0\n",
    "            for j in range(N):\n",
    "                local_g = G[i, j]\n",
    "                local_dict = update_dict.copy()\n",
    "                for idx in range(M):\n",
    "                    local_dict[v[idx]] = initial_array[j, idx]\n",
    "                    local_dict[v_sub[idx]] = initial_array[i, idx]\n",
    "                if j <= i:\n",
    "                    local_f = local_func.subs(local_dict)\n",
    "                else:\n",
    "                    local_f = local_sub_func.subs(local_dict)\n",
    "                local_sum += local_g * local_f\n",
    "            initial_array[i, n + 1] = initial_array[i, n] + h * local_sum\n",
    "        local_func = local_func.diff(p) / (n + 1)\n",
    "        local_sub_func = local_sub_func.diff(p) / (n + 1)\n",
    "    return initial_array"
   ]
  },
  {
   "cell_type": "code",
   "execution_count": 9,
   "metadata": {},
   "outputs": [],
   "source": [
    "vwap_ham_solution = ham_series_solve(update_array)"
   ]
  },
  {
   "cell_type": "code",
   "execution_count": 10,
   "metadata": {},
   "outputs": [],
   "source": [
    "gss_ham_solution = ham_series_solve(update_array_gss)"
   ]
  },
  {
   "cell_type": "code",
   "execution_count": 11,
   "metadata": {},
   "outputs": [
    {
     "data": {
      "text/plain": [
       "<AxesSubplot:>"
      ]
     },
     "execution_count": 11,
     "metadata": {},
     "output_type": "execute_result"
    },
    {
     "data": {
      "image/png": "[encoded data removed]",
      "text/plain": [
       "<Figure size 432x288 with 1 Axes>"
      ]
     },
     "metadata": {
      "needs_background": "light"
     },
     "output_type": "display_data"
    }
   ],
   "source": [
    "pd.Series(gss_v_0_guess.astype(np.float)).plot()\n",
    "pd.Series(vwap_ham_solution.sum(axis = 1).astype(np.float)).plot(label = \"vwap\")\n",
    "pd.Series(gss_ham_solution.sum(axis = 1).astype(np.float)).plot(label = \"vwap\")\n",
    "pd.Series(v_guess.astype(np.float)).plot()"
   ]
  },
  {
   "cell_type": "code",
   "execution_count": 12,
   "metadata": {},
   "outputs": [
    {
     "data": {
      "text/plain": [
       "array([[ 3.16993190e-03, -4.19457818e-02,  7.41845892e-01,\n",
       "        -9.21463535e+00, -5.45416502e-01,  1.52279950e+03],\n",
       "       [ 2.67908143e-03, -4.85343049e-02,  8.18622045e-01,\n",
       "        -9.12319505e+00, -9.95598354e+00,  1.40042800e+03],\n",
       "       [ 2.43333448e-03, -5.21263871e-02,  8.73390987e-01,\n",
       "        -9.07889717e+00, -1.43004489e+01,  1.29676625e+03],\n",
       "       [ 2.27642303e-03, -5.47352589e-02,  9.18279079e-01,\n",
       "        -9.07773030e+00, -1.65862580e+01,  1.21998120e+03],\n",
       "       [ 2.16451438e-03, -5.68144290e-02,  9.57424740e-01,\n",
       "        -9.10771867e+00, -1.79497858e+01,  1.16552957e+03],\n",
       "       [ 2.07946441e-03, -5.85561352e-02,  9.92689954e-01,\n",
       "        -9.16041397e+00, -1.88803042e+01,  1.12794950e+03],\n",
       "       [ 2.01212406e-03, -6.00616604e-02,  1.02508530e+00,\n",
       "        -9.22994168e+00, -1.96161025e+01,  1.10279303e+03],\n",
       "       [ 1.95727939e-03, -6.13914639e-02,  1.05522514e+00,\n",
       "        -9.31211659e+00, -2.02811776e+01,  1.08669004e+03],\n",
       "       [ 1.91169887e-03, -6.25847479e-02,  1.08351278e+00,\n",
       "        -9.40386536e+00, -2.09417183e+01,  1.07713293e+03],\n",
       "       [ 1.87325314e-03, -6.36684829e-02,  1.11022800e+00,\n",
       "        -9.50286655e+00, -2.16325144e+01,  1.07226445e+03],\n",
       "       [ 1.84047221e-03, -6.46620712e-02,  1.13557309e+00,\n",
       "        -9.60732249e+00, -2.23704416e+01,  1.07071161e+03],\n",
       "       [ 1.81230367e-03, -6.55799664e-02,  1.15969889e+00,\n",
       "        -9.71581059e+00, -2.31618140e+01,  1.07146252e+03],\n",
       "       [ 1.78797193e-03, -6.64332415e-02,  1.18272067e+00,\n",
       "        -9.82718328e+00, -2.40065978e+01,  1.07377596e+03],\n",
       "       [ 1.76689196e-03, -6.72305763e-02,  1.20472804e+00,\n",
       "        -9.94049888e+00, -2.49009218e+01,  1.07711468e+03],\n",
       "       [ 1.74861417e-03, -6.79789058e-02,  1.22579165e+00,\n",
       "        -1.00549726e+01, -2.58386168e+01,  1.08109590e+03],\n",
       "       [ 1.73278798e-03, -6.86838611e-02,  1.24596762e+00,\n",
       "        -1.01699410e+01, -2.68121816e+01,  1.08545408e+03],\n",
       "       [ 1.71913695e-03, -6.93500769e-02,  1.26530073e+00,\n",
       "        -1.02848355e+01, -2.78133982e+01,  1.09001262e+03],\n",
       "       [ 1.70744146e-03, -6.99814133e-02,  1.28382666e+00,\n",
       "        -1.03991626e+01, -2.88337260e+01,  1.09466225e+03],\n",
       "       [ 1.69752641e-03, -7.05811166e-02,  1.30157361e+00,\n",
       "        -1.05124885e+01, -2.98645558e+01,  1.09934424e+03],\n",
       "       [ 1.68925227e-03, -7.11519411e-02,  1.31856354e+00,\n",
       "        -1.06244272e+01, -3.08973710e+01,  1.10403731e+03],\n",
       "       [ 1.68250861e-03, -7.16962399e-02,  1.33481302e+00,\n",
       "        -1.07346306e+01, -3.19238468e+01,  1.10874737e+03],\n",
       "       [ 1.67720931e-03, -7.22160352e-02,  1.35033390e+00,\n",
       "        -1.08427812e+01, -3.29359094e+01,  1.11349942e+03],\n",
       "       [ 1.67328904e-03, -7.27130737e-02,  1.36513379e+00,\n",
       "        -1.09485855e+01, -3.39257654e+01,  1.11833100e+03],\n",
       "       [ 1.67070081e-03, -7.31888687e-02,  1.37921636e+00,\n",
       "        -1.10517685e+01, -3.48859122e+01,  1.12328713e+03],\n",
       "       [ 1.66941417e-03, -7.36447343e-02,  1.39258160e+00,\n",
       "        -1.11520690e+01, -3.58091345e+01,  1.12841608e+03],\n",
       "       [ 1.66941417e-03, -7.40818123e-02,  1.40522591e+00,\n",
       "        -1.12492354e+01, -3.66884904e+01,  1.13376608e+03],\n",
       "       [ 1.67070081e-03, -7.45010933e-02,  1.41714208e+00,\n",
       "        -1.13430222e+01, -3.75172893e+01,  1.13938258e+03],\n",
       "       [ 1.67328904e-03, -7.49034335e-02,  1.42831929e+00,\n",
       "        -1.14331858e+01, -3.82890640e+01,  1.14530605e+03],\n",
       "       [ 1.67720931e-03, -7.52895675e-02,  1.43874290e+00,\n",
       "        -1.15194814e+01, -3.89975365e+01,  1.15157021e+03],\n",
       "       [ 1.68250861e-03, -7.56601180e-02,  1.44839420e+00,\n",
       "        -1.16016589e+01, -3.96365783e+01,  1.15820052e+03],\n",
       "       [ 1.68925227e-03, -7.60156024e-02,  1.45725002e+00,\n",
       "        -1.16794591e+01, -4.02001648e+01,  1.16521291e+03],\n",
       "       [ 1.69752641e-03, -7.63564367e-02,  1.46528227e+00,\n",
       "        -1.17526097e+01, -4.06823215e+01,  1.17261274e+03],\n",
       "       [ 1.70744146e-03, -7.66829360e-02,  1.47245724e+00,\n",
       "        -1.18208195e+01, -4.10770623e+01,  1.18039383e+03],\n",
       "       [ 1.71913695e-03, -7.69953123e-02,  1.47873473e+00,\n",
       "        -1.18837733e+01, -4.13783152e+01,  1.18853750e+03],\n",
       "       [ 1.73278798e-03, -7.72936686e-02,  1.48406691e+00,\n",
       "        -1.19411240e+01, -4.15798335e+01,  1.19701172e+03],\n",
       "       [ 1.74861417e-03, -7.75779878e-02,  1.48839683e+00,\n",
       "        -1.19924842e+01, -4.16750859e+01,  1.20577004e+03],\n",
       "       [ 1.76689196e-03, -7.78481154e-02,  1.49165645e+00,\n",
       "        -1.20374137e+01, -4.16571179e+01,  1.21475037e+03],\n",
       "       [ 1.78797193e-03, -7.81037343e-02,  1.49376397e+00,\n",
       "        -1.20754051e+01, -4.15183746e+01,  1.22387337e+03],\n",
       "       [ 1.81230367e-03, -7.83443258e-02,  1.49462017e+00,\n",
       "        -1.21058621e+01, -4.12504651e+01,  1.23304033e+03],\n",
       "       [ 1.84047221e-03, -7.85691121e-02,  1.49410341e+00,\n",
       "        -1.21280713e+01, -4.08438453e+01,  1.24212999e+03],\n",
       "       [ 1.87325314e-03, -7.87769685e-02,  1.49206230e+00,\n",
       "        -1.21411598e+01, -4.02873737e+01,  1.25099390e+03],\n",
       "       [ 1.91169887e-03, -7.89662835e-02,  1.48830504e+00,\n",
       "        -1.21440340e+01, -3.95676726e+01,  1.25944908e+03],\n",
       "       [ 1.95727939e-03, -7.91347312e-02,  1.48258295e+00,\n",
       "        -1.21352832e+01, -3.86681723e+01,  1.26726614e+03],\n",
       "       [ 2.01212406e-03, -7.92788746e-02,  1.47456413e+00,\n",
       "        -1.21130230e+01, -3.75676169e+01,  1.27414902e+03],\n",
       "       [ 2.07946441e-03, -7.93934284e-02,  1.46378838e+00,\n",
       "        -1.20746233e+01, -3.62376020e+01,  1.27969815e+03],\n",
       "       [ 2.16451438e-03, -7.94697492e-02,  1.44958452e+00,\n",
       "        -1.20161967e+01, -3.46382398e+01,  1.28333809e+03],\n",
       "       [ 2.27642303e-03, -7.94923070e-02,  1.43090136e+00,\n",
       "        -1.19315219e+01, -3.27098592e+01,  1.28415955e+03],\n",
       "       [ 2.43333448e-03, -7.94286154e-02,  1.40590604e+00,\n",
       "        -1.18093931e+01, -3.03552980e+01,  1.28051711e+03],\n",
       "       [ 2.67908143e-03, -7.91884937e-02,  1.37074895e+00,\n",
       "        -1.16252515e+01, -2.73985454e+01,  1.26872239e+03],\n",
       "       [ 3.16993190e-03, -7.81311654e-02,  1.31333657e+00,\n",
       "        -1.12829526e+01, -2.35986560e+01,  1.23475563e+03]])"
      ]
     },
     "execution_count": 12,
     "metadata": {},
     "output_type": "execute_result"
    }
   ],
   "source": [
    "gss_ham_solution"
   ]
  },
  {
   "cell_type": "code",
   "execution_count": 311,
   "metadata": {},
   "outputs": [
    {
     "data": {
      "text/plain": [
       "0.48432626021735276"
      ]
     },
     "execution_count": 311,
     "metadata": {},
     "output_type": "execute_result"
    }
   ],
   "source": [
    "sum(gss_v_0_guess*X*N)"
   ]
  },
  {
   "cell_type": "code",
   "execution_count": 316,
   "metadata": {},
   "outputs": [],
   "source": [
    "def impact_f(v):\n",
    "    return np.sign(v) * np.abs(v) ** delta_const"
   ]
  },
  {
   "cell_type": "code",
   "execution_count": 315,
   "metadata": {},
   "outputs": [],
   "source": [
    "A = G_upper + G_diag / 2"
   ]
  },
  {
   "cell_type": "code",
   "execution_count": 317,
   "metadata": {},
   "outputs": [],
   "source": [
    "def expect_cost_compute(v):\n",
    "    return v @ A @ impact_f(v).T"
   ]
  },
  {
   "cell_type": "code",
   "execution_count": 280,
   "metadata": {},
   "outputs": [],
   "source": [
    "expected_cost = v_guess @ A @ impact_f(v_guess).T"
   ]
  },
  {
   "cell_type": "code",
   "execution_count": 318,
   "metadata": {},
   "outputs": [
    {
     "data": {
      "text/plain": [
       "0.00010263967680164593"
      ]
     },
     "execution_count": 318,
     "metadata": {},
     "output_type": "execute_result"
    }
   ],
   "source": [
    "expect_cost_compute(gss_ham_solution.sum(axis = 1))"
   ]
  },
  {
   "cell_type": "code",
   "execution_count": 319,
   "metadata": {},
   "outputs": [
    {
     "data": {
      "text/plain": [
       "0.00011022935917621698"
      ]
     },
     "execution_count": 319,
     "metadata": {},
     "output_type": "execute_result"
    }
   ],
   "source": [
    "expect_cost_compute(vwap_ham_solution.sum(axis = 1))"
   ]
  },
  {
   "cell_type": "code",
   "execution_count": 321,
   "metadata": {},
   "outputs": [
    {
     "data": {
      "text/plain": [
       "9.703095936545951e-05"
      ]
     },
     "execution_count": 321,
     "metadata": {},
     "output_type": "execute_result"
    }
   ],
   "source": [
    "expect_cost_compute(gss_v_0_guess * X * N)"
   ]
  },
  {
   "cell_type": "code",
   "execution_count": 322,
   "metadata": {},
   "outputs": [
    {
     "data": {
      "text/plain": [
       "0.00010471404520791033"
      ]
     },
     "execution_count": 322,
     "metadata": {},
     "output_type": "execute_result"
    }
   ],
   "source": [
    "expect_cost_compute(v_guess * X * N)"
   ]
  },
  {
   "cell_type": "code",
   "execution_count": 239,
   "metadata": {},
   "outputs": [
    {
     "data": {
      "text/plain": [
       "array([[  0,   1,   2,   3,   4,   5,   6,   7,   8,   9],\n",
       "       [100,   0,   3,   4,   5,   6,   7,   8,   9,  10],\n",
       "       [100, 100,   0,   5,   6,   7,   8,   9,  10,  11],\n",
       "       [100, 100, 100,   0,   7,   8,   9,  10,  11,  12],\n",
       "       [100, 100, 100, 100,   0,   9,  10,  11,  12,  13],\n",
       "       [100, 100, 100, 100, 100,   0,  11,  12,  13,  14],\n",
       "       [100, 100, 100, 100, 100, 100,   0,  13,  14,  15],\n",
       "       [100, 100, 100, 100, 100, 100, 100,   0,  15,  16],\n",
       "       [100, 100, 100, 100, 100, 100, 100, 100,   0,  17],\n",
       "       [100, 100, 100, 100, 100, 100, 100, 100, 100,   0]])"
      ]
     },
     "execution_count": 239,
     "metadata": {},
     "output_type": "execute_result"
    }
   ],
   "source": [
    "def test_vec_f(i, j):\n",
    "    if i < j:\n",
    "        return i + j\n",
    "    elif i > j:\n",
    "        return 100\n",
    "    else:\n",
    "        return 0\n",
    "\n",
    "np.fromfunction(np.vectorize(test_vec_f), (10, 10))"
   ]
  }
 ],
 "metadata": {
  "interpreter": {
   "hash": "3b07a4c983e57ffd979b6a111ad73892f909c14a0d47f7604a41c52f9ad946a6"
  },
  "kernelspec": {
   "display_name": "Python 3.8.8 64-bit",
   "language": "python",
   "name": "python3"
  },
  "language_info": {
   "codemirror_mode": {
    "name": "ipython",
    "version": 3
   },
   "file_extension": ".py",
   "mimetype": "text/x-python",
   "name": "python",
   "nbconvert_exporter": "python",
   "pygments_lexer": "ipython3",
   "version": "3.8.8"
  },
  "orig_nbformat": 4
 },
 "nbformat": 4,
 "nbformat_minor": 2
}
