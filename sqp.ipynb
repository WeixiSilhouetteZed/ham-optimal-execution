{
 "cells": [
  {
   "cell_type": "code",
   "execution_count": 8,
   "metadata": {},
   "outputs": [],
   "source": [
    "from scipy.optimize import NonlinearConstraint, minimize, LinearConstraint\n",
    "import numpy as np\n",
    "from scipy.special import gamma, factorial\n"
   ]
  },
  {
   "cell_type": "code",
   "execution_count": 10,
   "metadata": {},
   "outputs": [
    {
     "name": "stderr",
     "output_type": "stream",
     "text": [
      "<ipython-input-10-851712020c2d>:11: RuntimeWarning: invalid value encountered in power\n",
      "  * ((i - j + 1) ** (2 - gamma_const) - 2 * (i - j) ** (2 - gamma_const) +\\\n",
      "<ipython-input-10-851712020c2d>:12: RuntimeWarning: invalid value encountered in power\n",
      "  (i - j - 1) ** (2 - gamma_const))\n",
      "<ipython-input-10-851712020c2d>:29: RuntimeWarning: divide by zero encountered in true_divide\n",
      "  return (c / (t * (T - t)) ** ((1 - gamma_const) / 2))\n"
     ]
    }
   ],
   "source": [
    "h = -1.50\n",
    "N = 50\n",
    "gamma_const = 0.5\n",
    "delta_const = 1.0\n",
    "T = 1\n",
    "X = 0.1\n",
    "G = np.zeros((N, N))\n",
    "\n",
    "def G_ij_upper(i, j):\n",
    "    return (1 / (1 - gamma_const) * (1 - gamma_const)) * (T / N) ** (2 - gamma_const) \\\n",
    "            * ((i - j + 1) ** (2 - gamma_const) - 2 * (i - j) ** (2 - gamma_const) +\\\n",
    "                 (i - j - 1) ** (2 - gamma_const)) \n",
    "\n",
    "def G_ii_diagonal():\n",
    "    return (2 / ((1 - gamma_const) * (2 - gamma_const))) * (T / N) ** (2 - gamma_const)\n",
    "    \n",
    "G_upper = np.fromfunction(G_ij_upper, (N, N))\n",
    "G_upper = np.nan_to_num(G_upper, nan = 0.0)\n",
    "G_diag = np.repeat(G_ii_diagonal(), N)\n",
    "G_diag = np.diag(G_diag)\n",
    "G = G_upper.T + G_upper + G_diag\n",
    "\n",
    "v_guess = np.repeat(T * X / N, N) ## VWAP\n",
    "\n",
    "def gss_guess(t: np.array) -> np.array:\n",
    "    gamma_1 = gamma((1 + gamma_const)/ 2)\n",
    "    gamma_2 = gamma(1 + (gamma_const / 2))\n",
    "    c = (X / N) / (np.sqrt(np.pi) * (T / 2) ** gamma_const * (gamma_1 / gamma_2))\n",
    "    return (c / (t * (T - t)) ** ((1 - gamma_const) / 2))\n",
    "gss_v_0_guess = gss_guess(np.arange(0, 1 + 1 / (N + 1), 1 / (N + 1)))[1:-1]"
   ]
  },
  {
   "cell_type": "code",
   "execution_count": 11,
   "metadata": {},
   "outputs": [],
   "source": [
    "def impact_f(v):\n",
    "    return np.sign(v) * np.abs(v) ** delta_const\n",
    "\n",
    "A = G_upper + G_diag / 2\n",
    "\n",
    "def expect_cost_compute(v):\n",
    "    return v @ A @ impact_f(v).T"
   ]
  },
  {
   "cell_type": "code",
   "execution_count": 12,
   "metadata": {},
   "outputs": [],
   "source": [
    "def total_volume(x):\n",
    "    return np.sum(x)\n",
    "\n",
    "lc = LinearConstraint(total_volume, N * X / T, N * X / T)"
   ]
  },
  {
   "cell_type": "code",
   "execution_count": null,
   "metadata": {},
   "outputs": [],
   "source": [
    "minimize(expect_cost_compute, v_guess, method = \"SLSQP\", constraints=(lc))"
   ]
  }
 ],
 "metadata": {
  "interpreter": {
   "hash": "3b07a4c983e57ffd979b6a111ad73892f909c14a0d47f7604a41c52f9ad946a6"
  },
  "kernelspec": {
   "display_name": "Python 3.8.8 64-bit",
   "language": "python",
   "name": "python3"
  },
  "language_info": {
   "codemirror_mode": {
    "name": "ipython",
    "version": 3
   },
   "file_extension": ".py",
   "mimetype": "text/x-python",
   "name": "python",
   "nbconvert_exporter": "python",
   "pygments_lexer": "ipython3",
   "version": "3.8.8"
  },
  "orig_nbformat": 4
 },
 "nbformat": 4,
 "nbformat_minor": 2
}
