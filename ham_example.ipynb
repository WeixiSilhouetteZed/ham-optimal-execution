{
 "cells": [
  {
   "cell_type": "code",
   "execution_count": 1,
   "metadata": {},
   "outputs": [],
   "source": [
    "from ham import HAM_Problem\n",
    "import numpy as np\n",
    "import pandas as pd"
   ]
  },
  {
   "cell_type": "code",
   "execution_count": 7,
   "metadata": {},
   "outputs": [],
   "source": [
    "gamma_list = [0.45, 0.5, 0.55]\n",
    "delta_list = np.arange(0.55, 1.0, 0.05)"
   ]
  },
  {
   "cell_type": "code",
   "execution_count": 8,
   "metadata": {},
   "outputs": [],
   "source": [
    "ham_dict = {}\n",
    "N = 50\n",
    "T = 1\n",
    "X = 0.1\n",
    "h = -1.50\n",
    "M = 6\n",
    "for delta in delta_list:\n",
    "    for gamma in gamma_list:\n",
    "        ham_dict[(delta, gamma)] = HAM_Problem(0, T, N, delta, gamma, X)"
   ]
  },
  {
   "cell_type": "code",
   "execution_count": 10,
   "metadata": {},
   "outputs": [
    {
     "name": "stderr",
     "output_type": "stream",
     "text": [
      "c:\\Users\\billz\\OneDrive-UWaterloo\\OneDrive - University of Waterloo\\Desktop\\Waterloo\\WATERLOO 4B\\ACTSC972\\Project\\ham-optimal-execution\\ham.py:45: RuntimeWarning: invalid value encountered in power\n",
      "  * ((i - j + 1) ** (2 - self.gamma) - 2 * (i - j) ** (2 - self.gamma) +\\\n",
      "c:\\Users\\billz\\OneDrive-UWaterloo\\OneDrive - University of Waterloo\\Desktop\\Waterloo\\WATERLOO 4B\\ACTSC972\\Project\\ham-optimal-execution\\ham.py:46: RuntimeWarning: invalid value encountered in power\n",
      "  (i - j - 1) ** (2 - self.gamma))\n",
      "c:\\Users\\billz\\OneDrive-UWaterloo\\OneDrive - University of Waterloo\\Desktop\\Waterloo\\WATERLOO 4B\\ACTSC972\\Project\\ham-optimal-execution\\ham.py:100: RuntimeWarning: divide by zero encountered in true_divide\n",
      "  result = (c / (t * (T - t)) ** ((1 - self.gamma) / 2))\n"
     ]
    },
    {
     "name": "stdout",
     "output_type": "stream",
     "text": [
      "HAM solved for parameters delta = 0.55, gamma = 0.45, guess = GSS\n",
      "Theoretical cost = 6.0054547006228424e-05\n",
      "HAM solved for parameters delta = 0.55, gamma = 0.5, guess = GSS\n",
      "Theoretical cost = 6.355853707858639e-05\n",
      "HAM solved for parameters delta = 0.55, gamma = 0.55, guess = GSS\n",
      "Theoretical cost = 6.816113464202832e-05\n",
      "HAM solved for parameters delta = 0.6000000000000001, gamma = 0.45, guess = GSS\n",
      "Theoretical cost = 4.5729771495691146e-05\n",
      "HAM solved for parameters delta = 0.6000000000000001, gamma = 0.5, guess = GSS\n",
      "Theoretical cost = 4.775362458775923e-05\n",
      "HAM solved for parameters delta = 0.6000000000000001, gamma = 0.55, guess = GSS\n",
      "Theoretical cost = 5.0615556922585504e-05\n",
      "HAM solved for parameters delta = 0.6500000000000001, gamma = 0.45, guess = GSS\n",
      "Theoretical cost = 3.423445777509104e-05\n",
      "HAM solved for parameters delta = 0.6500000000000001, gamma = 0.5, guess = GSS\n",
      "Theoretical cost = 3.552124683381747e-05\n",
      "HAM solved for parameters delta = 0.6500000000000001, gamma = 0.55, guess = GSS\n",
      "Theoretical cost = 3.7430271036325855e-05\n",
      "HAM solved for parameters delta = 0.7000000000000002, gamma = 0.45, guess = GSS\n",
      "Theoretical cost = 2.5401991105613862e-05\n",
      "HAM solved for parameters delta = 0.7000000000000002, gamma = 0.5, guess = GSS\n",
      "Theoretical cost = 2.6267585361136144e-05\n",
      "HAM solved for parameters delta = 0.7000000000000002, gamma = 0.55, guess = GSS\n",
      "Theoretical cost = 2.759187362534478e-05\n",
      "HAM solved for parameters delta = 0.7500000000000002, gamma = 0.45, guess = GSS\n",
      "Theoretical cost = 1.8757655997781646e-05\n",
      "HAM solved for parameters delta = 0.7500000000000002, gamma = 0.5, guess = GSS\n",
      "Theoretical cost = 1.935937196902967e-05\n",
      "HAM solved for parameters delta = 0.7500000000000002, gamma = 0.55, guess = GSS\n",
      "Theoretical cost = 2.0298236472543903e-05\n",
      "HAM solved for parameters delta = 0.8000000000000003, gamma = 0.45, guess = GSS\n",
      "Theoretical cost = 1.3813598527897534e-05\n",
      "HAM solved for parameters delta = 0.8000000000000003, gamma = 0.5, guess = GSS\n",
      "Theoretical cost = 1.4240014433520554e-05\n",
      "HAM solved for parameters delta = 0.8000000000000003, gamma = 0.55, guess = GSS\n",
      "Theoretical cost = 1.4913925920053723e-05\n",
      "HAM solved for parameters delta = 0.8500000000000003, gamma = 0.45, guess = GSS\n",
      "Theoretical cost = 1.0156547210580602e-05\n",
      "HAM solved for parameters delta = 0.8500000000000003, gamma = 0.5, guess = GSS\n",
      "Theoretical cost = 1.0462205261815134e-05\n",
      "HAM solved for parameters delta = 0.8500000000000003, gamma = 0.55, guess = GSS\n",
      "Theoretical cost = 1.0949453292925668e-05\n",
      "HAM solved for parameters delta = 0.9000000000000004, gamma = 0.45, guess = GSS\n",
      "Theoretical cost = 7.460668537187162e-06\n",
      "HAM solved for parameters delta = 0.9000000000000004, gamma = 0.5, guess = GSS\n",
      "Theoretical cost = 7.68126925499997e-06\n",
      "HAM solved for parameters delta = 0.9000000000000004, gamma = 0.55, guess = GSS\n",
      "Theoretical cost = 8.035085286965619e-06\n",
      "HAM solved for parameters delta = 0.9500000000000004, gamma = 0.45, guess = GSS\n",
      "Theoretical cost = 5.477338625876048e-06\n",
      "HAM solved for parameters delta = 0.9500000000000004, gamma = 0.5, guess = GSS\n",
      "Theoretical cost = 5.637203805138012e-06\n",
      "HAM solved for parameters delta = 0.9500000000000004, gamma = 0.55, guess = GSS\n",
      "Theoretical cost = 5.894800203777598e-06\n"
     ]
    }
   ],
   "source": [
    "for (delta, gamma), ham in ham_dict.items():\n",
    "    ham.create_ham_problem(h, M, \"GSS\")"
   ]
  },
  {
   "cell_type": "code",
   "execution_count": 9,
   "metadata": {},
   "outputs": [],
   "source": [
    "import pickle"
   ]
  },
  {
   "cell_type": "code",
   "execution_count": 11,
   "metadata": {},
   "outputs": [],
   "source": [
    "with open('ham_record.pickle', 'wb') as handle:\n",
    "    pickle.dump(ham_dict, handle, protocol=pickle.HIGHEST_PROTOCOL)"
   ]
  },
  {
   "cell_type": "code",
   "execution_count": 13,
   "metadata": {},
   "outputs": [
    {
     "name": "stdout",
     "output_type": "stream",
     "text": [
      "False\n"
     ]
    }
   ],
   "source": [
    "with open('ham_record.pickle', 'rb') as handle:\n",
    "    b = pickle.load(handle)\n",
    "\n",
    "print(ham_dict == b)"
   ]
  },
  {
   "cell_type": "code",
   "execution_count": 20,
   "metadata": {},
   "outputs": [
    {
     "data": {
      "text/plain": [
       "{(0.55, 0.45): <ham.HAM_Problem at 0x1e877b8de80>,\n",
       " (0.55, 0.5): <ham.HAM_Problem at 0x1e823a53fa0>,\n",
       " (0.55, 0.55): <ham.HAM_Problem at 0x1e877b32af0>,\n",
       " (0.6000000000000001, 0.45): <ham.HAM_Problem at 0x1e823a772e0>,\n",
       " (0.6000000000000001, 0.5): <ham.HAM_Problem at 0x1e823a77250>,\n",
       " (0.6000000000000001, 0.55): <ham.HAM_Problem at 0x1e823a776d0>,\n",
       " (0.6500000000000001, 0.45): <ham.HAM_Problem at 0x1e823a77670>,\n",
       " (0.6500000000000001, 0.5): <ham.HAM_Problem at 0x1e823a771f0>,\n",
       " (0.6500000000000001, 0.55): <ham.HAM_Problem at 0x1e823a775e0>,\n",
       " (0.7000000000000002, 0.45): <ham.HAM_Problem at 0x1e877d033a0>,\n",
       " (0.7000000000000002, 0.5): <ham.HAM_Problem at 0x1e877d03e80>,\n",
       " (0.7000000000000002, 0.55): <ham.HAM_Problem at 0x1e8756a7c70>,\n",
       " (0.7500000000000002, 0.45): <ham.HAM_Problem at 0x1e877b9dd60>,\n",
       " (0.7500000000000002, 0.5): <ham.HAM_Problem at 0x1e877b9deb0>,\n",
       " (0.7500000000000002, 0.55): <ham.HAM_Problem at 0x1e877b9d370>,\n",
       " (0.8000000000000003, 0.45): <ham.HAM_Problem at 0x1e877b9d8e0>,\n",
       " (0.8000000000000003, 0.5): <ham.HAM_Problem at 0x1e877b9d9a0>,\n",
       " (0.8000000000000003, 0.55): <ham.HAM_Problem at 0x1e877bd8160>,\n",
       " (0.8500000000000003, 0.45): <ham.HAM_Problem at 0x1e877bd8310>,\n",
       " (0.8500000000000003, 0.5): <ham.HAM_Problem at 0x1e877bd84c0>,\n",
       " (0.8500000000000003, 0.55): <ham.HAM_Problem at 0x1e877e21760>,\n",
       " (0.9000000000000004, 0.45): <ham.HAM_Problem at 0x1e877e21730>,\n",
       " (0.9000000000000004, 0.5): <ham.HAM_Problem at 0x1e877e21d90>,\n",
       " (0.9000000000000004, 0.55): <ham.HAM_Problem at 0x1e877e21580>,\n",
       " (0.9500000000000004, 0.45): <ham.HAM_Problem at 0x1e877e21190>,\n",
       " (0.9500000000000004, 0.5): <ham.HAM_Problem at 0x1e877e218b0>,\n",
       " (0.9500000000000004, 0.55): <ham.HAM_Problem at 0x1e877e21af0>}"
      ]
     },
     "execution_count": 20,
     "metadata": {},
     "output_type": "execute_result"
    }
   ],
   "source": [
    "ham_dict"
   ]
  }
 ],
 "metadata": {
  "interpreter": {
   "hash": "3b07a4c983e57ffd979b6a111ad73892f909c14a0d47f7604a41c52f9ad946a6"
  },
  "kernelspec": {
   "display_name": "Python 3.8.8 64-bit",
   "language": "python",
   "name": "python3"
  },
  "language_info": {
   "codemirror_mode": {
    "name": "ipython",
    "version": 3
   },
   "file_extension": ".py",
   "mimetype": "text/x-python",
   "name": "python",
   "nbconvert_exporter": "python",
   "pygments_lexer": "ipython3",
   "version": "3.8.8"
  },
  "orig_nbformat": 4
 },
 "nbformat": 4,
 "nbformat_minor": 2
}
