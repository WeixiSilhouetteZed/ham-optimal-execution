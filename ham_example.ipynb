{
 "cells": [
  {
   "cell_type": "code",
   "execution_count": 1,
   "metadata": {},
   "outputs": [],
   "source": [
    "from ham import HAM_Problem\n",
    "import numpy as np\n",
    "import pandas as pd"
   ]
  },
  {
   "cell_type": "code",
   "execution_count": 2,
   "metadata": {},
   "outputs": [],
   "source": [
    "gamma_list = [0.45, 0.5, 0.55]\n",
    "delta_list = np.arange(0.55, 1.0, 0.1)"
   ]
  },
  {
   "cell_type": "code",
   "execution_count": 5,
   "metadata": {},
   "outputs": [
    {
     "name": "stderr",
     "output_type": "stream",
     "text": [
      "c:\\Users\\billz\\OneDrive-UWaterloo\\OneDrive - University of Waterloo\\Desktop\\Waterloo\\WATERLOO 4B\\ACTSC972\\Project\\ham-optimal-execution\\ham.py:45: RuntimeWarning: invalid value encountered in power\n",
      "  * ((i - j + 1) ** (2 - self.gamma) - 2 * (i - j) ** (2 - self.gamma) +\\\n",
      "c:\\Users\\billz\\OneDrive-UWaterloo\\OneDrive - University of Waterloo\\Desktop\\Waterloo\\WATERLOO 4B\\ACTSC972\\Project\\ham-optimal-execution\\ham.py:46: RuntimeWarning: invalid value encountered in power\n",
      "  (i - j - 1) ** (2 - self.gamma))\n"
     ]
    }
   ],
   "source": [
    "ham_dict = {}\n",
    "N = 50\n",
    "T = 1\n",
    "X = 0.1\n",
    "h = -1.50\n",
    "M = 6\n",
    "for delta in delta_list:\n",
    "    for gamma in gamma_list:\n",
    "        ham_dict[(delta, gamma)] = HAM_Problem(0, T, N, delta, gamma, X)"
   ]
  },
  {
   "cell_type": "code",
   "execution_count": 6,
   "metadata": {},
   "outputs": [
    {
     "name": "stderr",
     "output_type": "stream",
     "text": [
      "c:\\Users\\billz\\OneDrive-UWaterloo\\OneDrive - University of Waterloo\\Desktop\\Waterloo\\WATERLOO 4B\\ACTSC972\\Project\\ham-optimal-execution\\ham.py:45: RuntimeWarning: invalid value encountered in power\n",
      "  * ((i - j + 1) ** (2 - self.gamma) - 2 * (i - j) ** (2 - self.gamma) +\\\n",
      "c:\\Users\\billz\\OneDrive-UWaterloo\\OneDrive - University of Waterloo\\Desktop\\Waterloo\\WATERLOO 4B\\ACTSC972\\Project\\ham-optimal-execution\\ham.py:46: RuntimeWarning: invalid value encountered in power\n",
      "  (i - j - 1) ** (2 - self.gamma))\n",
      "c:\\Users\\billz\\OneDrive-UWaterloo\\OneDrive - University of Waterloo\\Desktop\\Waterloo\\WATERLOO 4B\\ACTSC972\\Project\\ham-optimal-execution\\ham.py:100: RuntimeWarning: divide by zero encountered in true_divide\n",
      "  result = (c / (t * (T - t)) ** ((1 - self.gamma) / 2))\n"
     ]
    },
    {
     "name": "stdout",
     "output_type": "stream",
     "text": [
      "HAM solved for parameters delta = 0.55, gamma = 0.45, guess = GSS\n",
      "Theoretical cost = 6.0054547006228424e-05\n",
      "HAM solved for parameters delta = 0.55, gamma = 0.5, guess = GSS\n",
      "Theoretical cost = 6.355853707858639e-05\n"
     ]
    }
   ],
   "source": [
    "for (delta, gamma), ham in ham_dict.items():\n",
    "    ham.create_ham_problem(h, M, \"GSS\")"
   ]
  },
  {
   "cell_type": "code",
   "execution_count": null,
   "metadata": {},
   "outputs": [],
   "source": [
    "import pickle"
   ]
  }
 ],
 "metadata": {
  "interpreter": {
   "hash": "3b07a4c983e57ffd979b6a111ad73892f909c14a0d47f7604a41c52f9ad946a6"
  },
  "kernelspec": {
   "display_name": "Python 3.8.8 64-bit",
   "language": "python",
   "name": "python3"
  },
  "language_info": {
   "codemirror_mode": {
    "name": "ipython",
    "version": 3
   },
   "file_extension": ".py",
   "mimetype": "text/x-python",
   "name": "python",
   "nbconvert_exporter": "python",
   "pygments_lexer": "ipython3",
   "version": "3.8.8"
  },
  "orig_nbformat": 4
 },
 "nbformat": 4,
 "nbformat_minor": 2
}
